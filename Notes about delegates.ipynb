{
 "cells": [
  {
   "cell_type": "markdown",
   "metadata": {},
   "source": [
    "## Sources?\n",
    "\n",
    "* http://www.p2016.org/chrnothp/njdemdelegates.html\n",
    "* This looks interesting: https://voterrecords.com/voter/44781794/kevin-conner"
   ]
  },
  {
   "cell_type": "markdown",
   "metadata": {},
   "source": [
    "### Kelly Stewart Maer\n",
    "\n",
    "* http://www.njdems.org/treasurer\n",
    "* https://www.linkedin.com/in/kellystewartmaer\n",
    "* http://docquery.fec.gov/cgi-bin/forms/C00104471/1092793/\n",
    "* https://www.intelius.com/people/Kelly-Maer/Manasquan-NJ/06nwqc7zejv\n",
    "* (Manasquan, in her 40s)\n",
    "* Found kelly and husband (William Maer) in Manasquan in njvoters (phone for husband is 8566161063).\n",
    "* Voter id 112455307 (Monmouth)"
   ]
  },
  {
   "cell_type": "markdown",
   "metadata": {},
   "source": [
    "### bonnie watson-coleman\n",
    "* https://watsoncoleman.house.gov/\n",
    "* Born: February 6, 1945\n",
    "* Voter id 103269262 (Mercer)"
   ]
  },
  {
   "cell_type": "markdown",
   "metadata": {},
   "source": [
    "### Linda lovingham-ballard\n",
    "* https://homemetry.com/Mays+Landing+NJ/FAIRWAY+DR/4218\n",
    "* 64 years old (e.g. 1953) \n",
    "* voter id 107056480\n"
   ]
  },
  {
   "cell_type": "markdown",
   "metadata": {},
   "source": [
    "### Valerie vainieri huttle\n",
    "* https://en.wikipedia.org/wiki/Valerie_Huttle\n",
    "* http://www.valeriehuttle.com/about\n",
    "* Born: September 15, 1956\n",
    "* Voter id 119575671"
   ]
  },
  {
   "cell_type": "markdown",
   "metadata": {},
   "source": [
    "### J Christian Bollwage\n",
    "* https://en.wikipedia.org/wiki/J._Christian_Bollwage\n",
    "* Born 1951, lives in Elizabeth\n",
    "* "
   ]
  },
  {
   "cell_type": "markdown",
   "metadata": {},
   "source": [
    "### John wisnewski\n",
    "* Born June 28, 1962\n",
    "* https://en.wikipedia.org/wiki/John_Wisniewski\n",
    "* \"exploring a run for governor\"\n",
    "* https://wisniewskifornj.com/\n",
    "* https://twitter.com/JohnWisniewski?ref_src=twsrc%5Egoogle%7Ctwcamp%5Eserp%7Ctwgr%5Eauthor\n",
    "* voter id 104531215"
   ]
  },
  {
   "cell_type": "markdown",
   "metadata": {},
   "source": [
    "### karin elkis-weinstein\n",
    "* https://www.intelius.com/people/Karin-Elkis/Haddonfield-NJ/0CSXG64H0GY\n",
    "* voter id 112159257"
   ]
  },
  {
   "cell_type": "markdown",
   "metadata": {},
   "source": [
    "### lizette delgado-polanco\n",
    "* http://www.npl.org/Pages/Collections/njhric/Polanco.html\n",
    "* https://ballotpedia.org/Lizette_Delgado-Polanco\n",
    "* \"The proud mother of four resides in Mercer County\" http://www.prnewswire.com/news-releases/lizette-delgado-polanco-appointed-deputy-political-director---new-jersey-for-the-northeast-regional-council-of-carpenters-300401745.html\n",
    "* voter id 107118474"
   ]
  },
  {
   "cell_type": "markdown",
   "metadata": {},
   "source": [
    "### Susan Bass Levin\n",
    "* https://en.wikipedia.org/wiki/Susan_Bass_Levin\n",
    "* basslevin-susan@CooperHealth.edu\n",
    "* http://www.njawbo.org/members/?id=12779023\n",
    "* phone: 856 342-2222 (personal)\n",
    "* 49 in 2002... 1953 http://www.nytimes.com/2002/02/17/nyregion/in-person-one-town-s-mayor-is-now-overseer-of-567.html\n",
    "* Probably voter id 112136135"
   ]
  },
  {
   "cell_type": "markdown",
   "metadata": {},
   "source": [
    "### Steve Sweeney\n",
    "* https://en.wikipedia.org/wiki/Stephen_M._Sweeney\n",
    "* june 11 1959\n",
    "* voter id 102065633"
   ]
  },
  {
   "cell_type": "markdown",
   "metadata": {},
   "source": [
    "### Jim Kehoe\n",
    "* https://www.facebook.com/jim.kehoe.777?fref=pb&hc_location=profile_browser\n",
    "* (found through https://www.facebook.com/NewJerseyansForABetterTomorrow/?hc_ref=PAGES_TIMELINE&fref=nf)\n",
    "* Signed this as James Kehoe http://www.afscme71nj.org/images/AFL-CIO%208-16-2011-unified-voice.pdf\n",
    "* Listed as James, in Berlin NJ in 2004 primary voters http://www.thegreenpapers.com/P04/NJ-D.phtml\n",
    "* TODO: continue this search... "
   ]
  },
  {
   "cell_type": "markdown",
   "metadata": {},
   "source": [
    "### Michellene Davis\n",
    "* http://michellenedavis.com/\n",
    "* http://radaris.com/p/Michellene/Davis/ lists phone numbers, but not sure which one we want... \n",
    "* Not in the voter records... but a Michellene Numan from Newark, born 7/18/74 is (id 101293870)\n",
    "* Records keep pointing at Michael C Stanley - is Michellene trans?"
   ]
  },
  {
   "cell_type": "markdown",
   "metadata": {},
   "source": [
    "### Benjie Wimberly\n",
    "* https://en.wikipedia.org/wiki/Benjie_E._Wimberly\n",
    "* Born December 1, 1964\n",
    "* Voter id 121213169\n",
    "* Phone number 9733211313"
   ]
  },
  {
   "cell_type": "markdown",
   "metadata": {},
   "source": [
    "### Nellie Pou\n",
    "* https://en.wikipedia.org/wiki/Nellie_Pou\n",
    "* May 20th 1956, Nelida\n",
    "* Voter id 121080406"
   ]
  },
  {
   "cell_type": "markdown",
   "metadata": {},
   "source": [
    "### michelle mcfadden-dinicola\n",
    "* Connected to Highland Park school\n",
    "* No Dinicola; only Michelle McFadden in voter records\n",
    "* 41 in 2016 https://runsignup.com/race/results/?raceId=9557&resultSetId=38597&textVersion=  (1975)\n",
    "* https://go.berniesanders.com/page/event/detail/gatherballotaccesssignatures/44df8 had a contact phone of 7324217331 - not sure if it's Michelle's \n",
    "* Voter id 110249118 is close (but not exact) to the age. "
   ]
  },
  {
   "cell_type": "markdown",
   "metadata": {},
   "source": [
    "### mark albeiz\n",
    "* voter id 110012794\n",
    "* phone 2015474818 (from voter list)"
   ]
  },
  {
   "cell_type": "markdown",
   "metadata": {},
   "source": [
    "### Cornel West\n",
    "* https://en.wikipedia.org/wiki/Cornel_West\n",
    "* born June 2, 1953\n",
    "* voter id 103249555\n",
    "* Teaches at Princeton (so will have an office phone there) http://religion.princeton.edu/people/faculty/emeriti-faculty/cornel-west/"
   ]
  },
  {
   "cell_type": "markdown",
   "metadata": {},
   "source": [
    "### Chip Robinson\n",
    "* http://chipforchairman.weebly.com/about-chip.html\n",
    "* currently resides in Lincoln Park, New Jersey\n",
    "* http://www.njelections.org/2016-results/2016-official-primary-democratic-district-delegates.pdf\n",
    "* Charles. \n",
    "* Voter id 116325084\n",
    "* Phone 9737273451 (from voter roll)"
   ]
  },
  {
   "cell_type": "markdown",
   "metadata": {},
   "source": [
    "### Maggie Moran \n",
    "* https://ballotpedia.org/Maggie_Moran\n",
    "* Husband Matt Doherty\n",
    "* Margaret Moran listed in http://www.njelections.org/election-results/2008-presidential-primary-official-dem-district-results-032808.pdf\n",
    "* Voter id 114356719 (for Margaret Moran in Belmar; same place as Matthew Doherty)"
   ]
  },
  {
   "cell_type": "markdown",
   "metadata": {},
   "source": [
    "### Timothy O'Donovan\n",
    "* Lots of this name; difficult to track down many details about his (chief of staff to John Wisniewski)"
   ]
  },
  {
   "cell_type": "markdown",
   "metadata": {},
   "source": [
    "### Brianne Earle\n",
    "* Probably Brianna Earle\n",
    "* Kivvit associate (protege of one of the women above?)"
   ]
  },
  {
   "cell_type": "code",
   "execution_count": null,
   "metadata": {
    "collapsed": true
   },
   "outputs": [],
   "source": []
  }
 ],
 "metadata": {
  "anaconda-cloud": {},
  "kernelspec": {
   "display_name": "Python [conda root]",
   "language": "python",
   "name": "conda-root-py"
  },
  "language_info": {
   "codemirror_mode": {
    "name": "ipython",
    "version": 3
   },
   "file_extension": ".py",
   "mimetype": "text/x-python",
   "name": "python",
   "nbconvert_exporter": "python",
   "pygments_lexer": "ipython3",
   "version": "3.5.2"
  }
 },
 "nbformat": 4,
 "nbformat_minor": 1
}

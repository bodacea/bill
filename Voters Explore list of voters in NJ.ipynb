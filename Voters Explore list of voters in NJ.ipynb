{
 "cells": [
  {
   "cell_type": "markdown",
   "metadata": {},
   "source": [
    "# Voters: Explore list of voters in NJ\n",
    "\n",
    "The original list was deliberately set up to have duplicates in it:  it was created with these columns: ['voter id', 'city', 'party code', 'prefix', 'first name', 'middle name', 'last name', 'suffix', 'birth date', 'phone number'] and drop_duplicates was run across all columns.  Any change in any of these for a voter should have created a second row for that voter. Now let's go have a look at that... "
   ]
  },
  {
   "cell_type": "code",
   "execution_count": 1,
   "metadata": {
    "collapsed": false
   },
   "outputs": [
    {
     "name": "stderr",
     "output_type": "stream",
     "text": [
      "/Users/sara/anaconda/lib/python3.5/site-packages/IPython/core/interactiveshell.py:2717: DtypeWarning: Columns (1,4) have mixed types. Specify dtype option on import or set low_memory=False.\n",
      "  interactivity=interactivity, compiler=compiler, result=result)\n"
     ]
    },
    {
     "name": "stdout",
     "output_type": "stream",
     "text": [
      "Index(['Unnamed: 0', 'voter id', 'city', 'party code', 'prefix', 'first name',\n",
      "       'middle name', 'last name', 'suffix', 'birth date', 'phone number',\n",
      "       'county'],\n",
      "      dtype='object')\n"
     ]
    },
    {
     "data": {
      "text/html": [
       "<div>\n",
       "<table border=\"1\" class=\"dataframe\">\n",
       "  <thead>\n",
       "    <tr style=\"text-align: right;\">\n",
       "      <th></th>\n",
       "      <th>Unnamed: 0</th>\n",
       "      <th>voter id</th>\n",
       "      <th>city</th>\n",
       "      <th>party code</th>\n",
       "      <th>prefix</th>\n",
       "      <th>first name</th>\n",
       "      <th>middle name</th>\n",
       "      <th>last name</th>\n",
       "      <th>suffix</th>\n",
       "      <th>birth date</th>\n",
       "      <th>phone number</th>\n",
       "      <th>county</th>\n",
       "    </tr>\n",
       "  </thead>\n",
       "  <tbody>\n",
       "    <tr>\n",
       "      <th>0</th>\n",
       "      <td>0</td>\n",
       "      <td>107084520</td>\n",
       "      <td>ABSECON</td>\n",
       "      <td>REP</td>\n",
       "      <td>NaN</td>\n",
       "      <td>MOHAMED</td>\n",
       "      <td>A</td>\n",
       "      <td>ABDELSALAM</td>\n",
       "      <td>NaN</td>\n",
       "      <td>07/06/1954</td>\n",
       "      <td>NaN</td>\n",
       "      <td>ATLANTIC</td>\n",
       "    </tr>\n",
       "    <tr>\n",
       "      <th>1</th>\n",
       "      <td>6</td>\n",
       "      <td>152328908</td>\n",
       "      <td>ABSECON</td>\n",
       "      <td>DEM</td>\n",
       "      <td>NaN</td>\n",
       "      <td>NADIA</td>\n",
       "      <td>NaN</td>\n",
       "      <td>ABDELSALAM</td>\n",
       "      <td>NaN</td>\n",
       "      <td>12/16/1992</td>\n",
       "      <td>NaN</td>\n",
       "      <td>ATLANTIC</td>\n",
       "    </tr>\n",
       "    <tr>\n",
       "      <th>2</th>\n",
       "      <td>7</td>\n",
       "      <td>107175505</td>\n",
       "      <td>ABSECON</td>\n",
       "      <td>DEM</td>\n",
       "      <td>NaN</td>\n",
       "      <td>CHAFIC</td>\n",
       "      <td>NaN</td>\n",
       "      <td>ABUSADA</td>\n",
       "      <td>NaN</td>\n",
       "      <td>09/16/1937</td>\n",
       "      <td>6.096412e+09</td>\n",
       "      <td>ATLANTIC</td>\n",
       "    </tr>\n",
       "    <tr>\n",
       "      <th>3</th>\n",
       "      <td>16</td>\n",
       "      <td>107175504</td>\n",
       "      <td>ABSECON</td>\n",
       "      <td>DEM</td>\n",
       "      <td>NaN</td>\n",
       "      <td>GRACIELA</td>\n",
       "      <td>NaN</td>\n",
       "      <td>ABUSADA</td>\n",
       "      <td>NaN</td>\n",
       "      <td>03/01/1935</td>\n",
       "      <td>NaN</td>\n",
       "      <td>ATLANTIC</td>\n",
       "    </tr>\n",
       "    <tr>\n",
       "      <th>4</th>\n",
       "      <td>25</td>\n",
       "      <td>120182433</td>\n",
       "      <td>ABSECON</td>\n",
       "      <td>UNA</td>\n",
       "      <td>NaN</td>\n",
       "      <td>JANET</td>\n",
       "      <td>W</td>\n",
       "      <td>ADAMS</td>\n",
       "      <td>NaN</td>\n",
       "      <td>06/17/1958</td>\n",
       "      <td>8.567861e+09</td>\n",
       "      <td>ATLANTIC</td>\n",
       "    </tr>\n",
       "  </tbody>\n",
       "</table>\n",
       "</div>"
      ],
      "text/plain": [
       "   Unnamed: 0   voter id     city party code prefix first name middle name  \\\n",
       "0           0  107084520  ABSECON        REP    NaN    MOHAMED           A   \n",
       "1           6  152328908  ABSECON        DEM    NaN      NADIA         NaN   \n",
       "2           7  107175505  ABSECON        DEM    NaN     CHAFIC         NaN   \n",
       "3          16  107175504  ABSECON        DEM    NaN   GRACIELA         NaN   \n",
       "4          25  120182433  ABSECON        UNA    NaN      JANET           W   \n",
       "\n",
       "    last name suffix  birth date  phone number    county  \n",
       "0  ABDELSALAM    NaN  07/06/1954           NaN  ATLANTIC  \n",
       "1  ABDELSALAM    NaN  12/16/1992           NaN  ATLANTIC  \n",
       "2     ABUSADA    NaN  09/16/1937  6.096412e+09  ATLANTIC  \n",
       "3     ABUSADA    NaN  03/01/1935           NaN  ATLANTIC  \n",
       "4       ADAMS    NaN  06/17/1958  8.567861e+09  ATLANTIC  "
      ]
     },
     "execution_count": 1,
     "metadata": {},
     "output_type": "execute_result"
    }
   ],
   "source": [
    "import pandas as pd\n",
    "\n",
    "\n",
    "\n",
    "df = pd.read_csv('../outputs/NJvoters.csv')\n",
    "print('{}'.format(df.columns))\n",
    "df.head()"
   ]
  },
  {
   "cell_type": "code",
   "execution_count": 10,
   "metadata": {
    "collapsed": false
   },
   "outputs": [
    {
     "data": {
      "text/plain": [
       "106307217    3\n",
       "104453626    3\n",
       "104562996    3\n",
       "106272491    3\n",
       "116335955    3\n",
       "101045990    3\n",
       "110549892    3\n",
       "152233584    3\n",
       "113011013    3\n",
       "120120631    3\n",
       "105679625    3\n",
       "108023177    3\n",
       "103009897    3\n",
       "110290481    3\n",
       "105553954    3\n",
       "115042642    3\n",
       "101630807    3\n",
       "102004629    3\n",
       "116050533    3\n",
       "118009165    3\n",
       "150369835    3\n",
       "101152494    3\n",
       "119654212    3\n",
       "105424412    3\n",
       "102151028    3\n",
       "119066011    3\n",
       "110056914    3\n",
       "106052298    3\n",
       "116390769    3\n",
       "119219074    3\n",
       "            ..\n",
       "114402115    1\n",
       "106013508    1\n",
       "114402117    1\n",
       "114402118    1\n",
       "151825514    1\n",
       "114402120    1\n",
       "152276218    1\n",
       "106013514    1\n",
       "106013495    1\n",
       "150307254    1\n",
       "106013493    1\n",
       "114402100    1\n",
       "121282632    1\n",
       "114402084    1\n",
       "152276214    1\n",
       "114402086    1\n",
       "525443879    1\n",
       "114402088    1\n",
       "114402089    1\n",
       "106013482    1\n",
       "114402091    1\n",
       "106013484    1\n",
       "114402093    1\n",
       "533781402    1\n",
       "106013487    1\n",
       "114402096    1\n",
       "114402097    1\n",
       "109062028    1\n",
       "151063913    1\n",
       "150187054    1\n",
       "Name: voter id, dtype: int64"
      ]
     },
     "execution_count": 10,
     "metadata": {},
     "output_type": "execute_result"
    }
   ],
   "source": [
    "df['voter id'].value_counts()"
   ]
  },
  {
   "cell_type": "code",
   "execution_count": 3,
   "metadata": {
    "collapsed": false
   },
   "outputs": [
    {
     "data": {
      "text/html": [
       "<div>\n",
       "<table border=\"1\" class=\"dataframe\">\n",
       "  <thead>\n",
       "    <tr style=\"text-align: right;\">\n",
       "      <th></th>\n",
       "      <th>Unnamed: 0</th>\n",
       "      <th>voter id</th>\n",
       "      <th>city</th>\n",
       "      <th>party code</th>\n",
       "      <th>prefix</th>\n",
       "      <th>first name</th>\n",
       "      <th>middle name</th>\n",
       "      <th>last name</th>\n",
       "      <th>suffix</th>\n",
       "      <th>birth date</th>\n",
       "      <th>phone number</th>\n",
       "      <th>county</th>\n",
       "    </tr>\n",
       "  </thead>\n",
       "  <tbody>\n",
       "    <tr>\n",
       "      <th>5471391</th>\n",
       "      <td>1390674</td>\n",
       "      <td>106307217</td>\n",
       "      <td>WARREN</td>\n",
       "      <td>REP</td>\n",
       "      <td>NaN</td>\n",
       "      <td>JANICE</td>\n",
       "      <td>C</td>\n",
       "      <td>SKORSTAD</td>\n",
       "      <td>NaN</td>\n",
       "      <td>04/22/1957</td>\n",
       "      <td>9.736352e+09</td>\n",
       "      <td>SOMERSET</td>\n",
       "    </tr>\n",
       "    <tr>\n",
       "      <th>5471392</th>\n",
       "      <td>1390675</td>\n",
       "      <td>106307217</td>\n",
       "      <td>WARREN</td>\n",
       "      <td>GRE</td>\n",
       "      <td>NaN</td>\n",
       "      <td>JANICE</td>\n",
       "      <td>C</td>\n",
       "      <td>SKORSTAD</td>\n",
       "      <td>NaN</td>\n",
       "      <td>04/22/1957</td>\n",
       "      <td>9.736352e+09</td>\n",
       "      <td>SOMERSET</td>\n",
       "    </tr>\n",
       "    <tr>\n",
       "      <th>5471393</th>\n",
       "      <td>1390678</td>\n",
       "      <td>106307217</td>\n",
       "      <td>WARREN</td>\n",
       "      <td>DEM</td>\n",
       "      <td>NaN</td>\n",
       "      <td>JANICE</td>\n",
       "      <td>C</td>\n",
       "      <td>SKORSTAD</td>\n",
       "      <td>NaN</td>\n",
       "      <td>04/22/1957</td>\n",
       "      <td>9.736352e+09</td>\n",
       "      <td>SOMERSET</td>\n",
       "    </tr>\n",
       "  </tbody>\n",
       "</table>\n",
       "</div>"
      ],
      "text/plain": [
       "         Unnamed: 0   voter id    city party code prefix first name  \\\n",
       "5471391     1390674  106307217  WARREN        REP    NaN     JANICE   \n",
       "5471392     1390675  106307217  WARREN        GRE    NaN     JANICE   \n",
       "5471393     1390678  106307217  WARREN        DEM    NaN     JANICE   \n",
       "\n",
       "        middle name last name suffix  birth date  phone number    county  \n",
       "5471391           C  SKORSTAD    NaN  04/22/1957  9.736352e+09  SOMERSET  \n",
       "5471392           C  SKORSTAD    NaN  04/22/1957  9.736352e+09  SOMERSET  \n",
       "5471393           C  SKORSTAD    NaN  04/22/1957  9.736352e+09  SOMERSET  "
      ]
     },
     "execution_count": 3,
     "metadata": {},
     "output_type": "execute_result"
    }
   ],
   "source": [
    "df[df['voter id'] == '106307217']"
   ]
  },
  {
   "cell_type": "code",
   "execution_count": 13,
   "metadata": {
    "collapsed": false
   },
   "outputs": [
    {
     "data": {
      "text/html": [
       "<div>\n",
       "<table border=\"1\" class=\"dataframe\">\n",
       "  <thead>\n",
       "    <tr style=\"text-align: right;\">\n",
       "      <th></th>\n",
       "      <th>Unnamed: 0</th>\n",
       "      <th>voter id</th>\n",
       "      <th>city</th>\n",
       "      <th>party code</th>\n",
       "      <th>prefix</th>\n",
       "      <th>first name</th>\n",
       "      <th>middle name</th>\n",
       "      <th>last name</th>\n",
       "      <th>suffix</th>\n",
       "      <th>birth date</th>\n",
       "      <th>phone number</th>\n",
       "      <th>county</th>\n",
       "    </tr>\n",
       "  </thead>\n",
       "  <tbody>\n",
       "  </tbody>\n",
       "</table>\n",
       "</div>"
      ],
      "text/plain": [
       "Empty DataFrame\n",
       "Columns: [Unnamed: 0, voter id, city, party code, prefix, first name, middle name, last name, suffix, birth date, phone number, county]\n",
       "Index: []"
      ]
     },
     "execution_count": 13,
     "metadata": {},
     "output_type": "execute_result"
    }
   ],
   "source": [
    "df[df['voter id'] == '152328908']"
   ]
  },
  {
   "cell_type": "code",
   "execution_count": null,
   "metadata": {
    "collapsed": true
   },
   "outputs": [],
   "source": [
    "towns = df[['city', 'county', 'voter id']].groupby(['city', 'county']).count()\n",
    "towns.to_csv('../outputs/njtowns.csv', index=False)\n",
    "towns"
   ]
  }
 ],
 "metadata": {
  "anaconda-cloud": {},
  "kernelspec": {
   "display_name": "Python [conda root]",
   "language": "python",
   "name": "conda-root-py"
  },
  "language_info": {
   "codemirror_mode": {
    "name": "ipython",
    "version": 3
   },
   "file_extension": ".py",
   "mimetype": "text/x-python",
   "name": "python",
   "nbconvert_exporter": "python",
   "pygments_lexer": "ipython3",
   "version": "3.5.2"
  }
 },
 "nbformat": 4,
 "nbformat_minor": 1
}

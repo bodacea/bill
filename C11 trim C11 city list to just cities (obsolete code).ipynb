{
 "cells": [
  {
   "cell_type": "markdown",
   "metadata": {},
   "source": [
    "# C11 trim C11 city list to just cities\n",
    "\n",
    "Have 732658 people (2011 figure) in the towns alone. \n",
    "Values in each county:\n",
    "Essex      742\n",
    "Morris      28\n",
    "Passaic      8\n",
    "Sussex       5"
   ]
  },
  {
   "cell_type": "code",
   "execution_count": null,
   "metadata": {
    "collapsed": true
   },
   "outputs": [],
   "source": [
    "import pandas as pd"
   ]
  },
  {
   "cell_type": "code",
   "execution_count": null,
   "metadata": {
    "collapsed": true
   },
   "outputs": [],
   "source": [
    "# Limit this to just the cities for now\n",
    "df = pd.read_csv('../2017 Other data/ncjd-2011-district11-cleaned.csv')\n",
    "dfcities = df[df['City'].str.startswith('MCD')]\n",
    "dfcities['City'] = dfcities['City'].str[4:-3]\n",
    "dfcities['Population'] = dfcities['Population'].str.replace(',','')\n",
    "dfcities['Population'] = dfcities['Population'].astype('int')\n",
    "dfcities.to_csv('../2017 Other data/ncjd-2011-district11cities-cleaned.csv', index=False)\n",
    "dfcities"
   ]
  }
 ],
 "metadata": {
  "anaconda-cloud": {},
  "kernelspec": {
   "display_name": "Python [conda root]",
   "language": "python",
   "name": "conda-root-py"
  },
  "language_info": {
   "codemirror_mode": {
    "name": "ipython",
    "version": 3
   },
   "file_extension": ".py",
   "mimetype": "text/x-python",
   "name": "python",
   "nbconvert_exporter": "python",
   "pygments_lexer": "ipython3",
   "version": "3.5.2"
  }
 },
 "nbformat": 4,
 "nbformat_minor": 1
}

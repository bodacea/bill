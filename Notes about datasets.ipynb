{
 "cells": [
  {
   "cell_type": "markdown",
   "metadata": {},
   "source": [
    "# Notes about datasets\n"
   ]
  },
  {
   "cell_type": "markdown",
   "metadata": {},
   "source": [
    "## Vote dataset\n",
    "Came from Bill - was sent to him on disk.  Have put list of headers into a file, so can read these into various other bits of code. \n",
    "\n",
    "Column explanations:\n",
    "* This might be helpful: https://sos.wa.gov/_assets/office/VRDBSpec.pdf\n",
    "* This is: http://www.nj.gov/state/elections/2012-results/2012-1024-statewide-voter-regs-summary-county.pdf\n",
    "* And this: http://nj.gov/state/elections/2016-results/2016-03-voter-registration-by-county.pdf\n",
    "* Status codes: seeing values including {A, IF, P, AD}\n",
    "* Ballot type: seeing {M, A, '', P}\n",
    "* party codes: \n",
    "\n",
    "These files had some dirt in them. For instance: \n",
    "* 'city' column had misspellings, abbreviations, numbers in it.  Chasing these down... looking at whether OpenRefine can handle this size files. \n",
    "* "
   ]
  },
  {
   "cell_type": "markdown",
   "metadata": {},
   "source": [
    "## Voters\n",
    "\n",
    "Created from vote dataset.  NB this is the people who voted; there must be many more people who haven't out there. "
   ]
  },
  {
   "cell_type": "markdown",
   "metadata": {},
   "source": [
    "## NJ counties\n",
    "\n",
    "List here https://simple.wikipedia.org/wiki/List_of_counties_in_New_Jersey <- we got them all\n"
   ]
  },
  {
   "cell_type": "markdown",
   "metadata": {},
   "source": [
    "## NJ Ward codes\n",
    "\n",
    "* Need a list of ward codes (and outlines, if we can get them)\n",
    "* Ward codes are here: http://www.state.nj.us/treasury/taxation/pdf/lpt/cntycode.pdf = which is nice, but these don't match the codes used in the voter dataset. \n",
    "* Maybe build a cross-table between codes? "
   ]
  },
  {
   "cell_type": "markdown",
   "metadata": {},
   "source": [
    "## NJ delegates\n",
    "\n",
    "dfpeeps = pd.read_csv('2016 DNC Delegation - Sheet1.csv')"
   ]
  },
  {
   "cell_type": "markdown",
   "metadata": {
    "collapsed": true
   },
   "source": [
    "## NJ Towns and cities\n",
    "\n",
    "* Need master list of towns in NJ: where from?\n",
    "* Per-capita incomes: https://en.wikipedia.org/wiki/List_of_New_Jersey_locations_by_per_capita_income\n",
    "* http://usgwarchives.net/nj/townsbycounty.pdf\n",
    "* localnames_nj.txt: came from http://www.nj.gov/nj/gov/county/localitieshelp.html\n",
    "\n",
    "MCDs (Minor Civil Divisions):\n",
    "* These are FIPS10 codes for e.g. towns\n",
    "* the dataset \"Table2.xls\" is downloaded from https://www.census.gov/hhes/commuting/files/ACS/Table2.xls - and gives things like which places are residential and which commuter etc.\n",
    "* THis might have what we need: http://www.census.gov/geo/maps-data/data/gazetteer2010.html\n",
    "\n",
    "Seeing if we can match with zipcodes...\n",
    "* https://www.gisinventory.net/GISI-23268-TIGER/Line-Shapefile-2010-2010-state-New-Jersey-2010-Census-5-Digit-ZIP-Code-Tabulation-Area-ZCTA5-State-based.html\n",
    "* https://www.census.gov/geo/maps-data/data/cbf/cbf_zcta.html has zipcode dataset (downloaded the 2015 one, which is latest available)\n",
    "* Looking in QGIS, the C11 boundary follows a lot of zipcode boundaries, but cuts across at least a dozen zipcode areas. Grabbing all the zipcodes included + touched would overcount... ah, what the hell\n",
    "* NJ Zipcodes scraped from http://www.nj.gov/nj/gov/direct/njzips.html, put in file NJ Zipcodes.csv\n",
    "\n",
    "What about wards? \n",
    "* No joy finding any ward-level maps. Wondering if there's a mapping from wards to census blocks anywhere? \n",
    "* Losing the will to live here... https://tigerweb.geo.census.gov/tigerwebmain/Files/tab10/tigerweb_tab10_vtd_2010_nj.html\n",
    "* "
   ]
  },
  {
   "cell_type": "code",
   "execution_count": null,
   "metadata": {
    "collapsed": true
   },
   "outputs": [],
   "source": []
  }
 ],
 "metadata": {
  "anaconda-cloud": {},
  "kernelspec": {
   "display_name": "Python [conda root]",
   "language": "python",
   "name": "conda-root-py"
  },
  "language_info": {
   "codemirror_mode": {
    "name": "ipython",
    "version": 3
   },
   "file_extension": ".py",
   "mimetype": "text/x-python",
   "name": "python",
   "nbconvert_exporter": "python",
   "pygments_lexer": "ipython3",
   "version": "3.5.2"
  }
 },
 "nbformat": 4,
 "nbformat_minor": 1
}
